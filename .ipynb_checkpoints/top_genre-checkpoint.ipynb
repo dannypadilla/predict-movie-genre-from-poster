{
 "cells": [
  {
   "cell_type": "code",
   "execution_count": 1,
   "metadata": {},
   "outputs": [],
   "source": [
    "import pandas as pd\n",
    "from matplotlib import pyplot as plt\n",
    "import matplotlib.image as mpimg\n",
    "import numpy as np\n",
    "import matplotlib.image as mpimg\n",
    "import numpy as np\n",
    "from keras.utils import np_utils\n",
    "import cv2\n",
    "from sklearn.model_selection import train_test_split\n",
    "from keras.models import Sequential\n",
    "from keras.layers import Dense, Dropout, Flatten, Input\n",
    "from keras.layers import Convolution2D, MaxPooling2D, Activation\n",
    "\n",
    "data = pd.read_csv('final_dataset.csv')\n",
    "poster_links = data['Poster']\n",
    "poster_links.shape\n",
    "sample_poster_url = poster_links[0]\n",
    "poster_folder = \"posters/\"\n",
    "file_extension = \".jpg\"\n",
    "\n",
    "file_name_ids = data[\"imdbId\"] \n",
    "\n",
    "# url picture download\n",
    "# for name, link in zip(file_name_ids, poster_links):\n",
    "#     file_name = str(name) + file_extension\n",
    "#     result = requests.get(link, stream=True)\n",
    "#     image = result.raw.read()\n",
    "#     open(poster_folder + file_name, \"wb\").write(image)\n",
    "# print(\"Sample image url:\\n\", sample_poster_url)"
   ]
  },
  {
   "cell_type": "code",
   "execution_count": 2,
   "metadata": {},
   "outputs": [
    {
     "name": "stdout",
     "output_type": "stream",
     "text": [
      "(6471, 6)\n",
      "(6395, 6)\n"
     ]
    }
   ],
   "source": [
    "print(data.shape)\n",
    "data = data.drop_duplicates()\n",
    "print(data.shape)"
   ]
  },
  {
   "cell_type": "code",
   "execution_count": 3,
   "metadata": {},
   "outputs": [
    {
     "name": "stdout",
     "output_type": "stream",
     "text": [
      "6253\n",
      "142\n"
     ]
    }
   ],
   "source": [
    "\n",
    "to_delete = []\n",
    "images = []\n",
    "for pid in data['imdbId']:\n",
    "    try:\n",
    "        img = mpimg.imread('posters/' + str(pid) + '.jpg')\n",
    "        images.append(img)\n",
    "    except:\n",
    "        to_delete.append(pid)\n",
    "print(len(images))\n",
    "print(len(to_delete))\n"
   ]
  },
  {
   "cell_type": "code",
   "execution_count": null,
   "metadata": {},
   "outputs": [],
   "source": []
  },
  {
   "cell_type": "code",
   "execution_count": 4,
   "metadata": {},
   "outputs": [
    {
     "name": "stdout",
     "output_type": "stream",
     "text": [
      "(6395, 6)\n",
      "142\n"
     ]
    },
    {
     "data": {
      "text/html": [
       "<div>\n",
       "<style scoped>\n",
       "    .dataframe tbody tr th:only-of-type {\n",
       "        vertical-align: middle;\n",
       "    }\n",
       "\n",
       "    .dataframe tbody tr th {\n",
       "        vertical-align: top;\n",
       "    }\n",
       "\n",
       "    .dataframe thead th {\n",
       "        text-align: right;\n",
       "    }\n",
       "</style>\n",
       "<table border=\"1\" class=\"dataframe\">\n",
       "  <thead>\n",
       "    <tr style=\"text-align: right;\">\n",
       "      <th></th>\n",
       "      <th>imdbId</th>\n",
       "      <th>Imdb Link</th>\n",
       "      <th>Title</th>\n",
       "      <th>IMDB Score</th>\n",
       "      <th>Genre</th>\n",
       "      <th>Poster</th>\n",
       "    </tr>\n",
       "  </thead>\n",
       "  <tbody>\n",
       "    <tr>\n",
       "      <th>0</th>\n",
       "      <td>40497</td>\n",
       "      <td>http://www.imdb.com/title/tt40497</td>\n",
       "      <td>Jour de fíÈte (1949)</td>\n",
       "      <td>7.4</td>\n",
       "      <td>Comedy</td>\n",
       "      <td>https://images-na.ssl-images-amazon.com/images...</td>\n",
       "    </tr>\n",
       "    <tr>\n",
       "      <th>1</th>\n",
       "      <td>64683</td>\n",
       "      <td>http://www.imdb.com/title/tt64683</td>\n",
       "      <td>Mondo Trasho (1969)</td>\n",
       "      <td>6.4</td>\n",
       "      <td>Comedy</td>\n",
       "      <td>https://images-na.ssl-images-amazon.com/images...</td>\n",
       "    </tr>\n",
       "    <tr>\n",
       "      <th>2</th>\n",
       "      <td>47338</td>\n",
       "      <td>http://www.imdb.com/title/tt47338</td>\n",
       "      <td>Pekka ja PÌ_tkÌ_ lumimiehen jÌ_ljillÌ_ (1954)</td>\n",
       "      <td>5.6</td>\n",
       "      <td>Comedy</td>\n",
       "      <td>https://images-na.ssl-images-amazon.com/images...</td>\n",
       "    </tr>\n",
       "    <tr>\n",
       "      <th>3</th>\n",
       "      <td>72837</td>\n",
       "      <td>http://www.imdb.com/title/tt72837</td>\n",
       "      <td>Cuore di cane (1976)</td>\n",
       "      <td>6.6</td>\n",
       "      <td>Comedy</td>\n",
       "      <td>https://images-na.ssl-images-amazon.com/images...</td>\n",
       "    </tr>\n",
       "    <tr>\n",
       "      <th>4</th>\n",
       "      <td>93748</td>\n",
       "      <td>http://www.imdb.com/title/tt93748</td>\n",
       "      <td>Planes, Trains &amp; Automobiles (1987)</td>\n",
       "      <td>7.6</td>\n",
       "      <td>Comedy</td>\n",
       "      <td>https://images-na.ssl-images-amazon.com/images...</td>\n",
       "    </tr>\n",
       "  </tbody>\n",
       "</table>\n",
       "</div>"
      ],
      "text/plain": [
       "   imdbId                          Imdb Link  \\\n",
       "0   40497  http://www.imdb.com/title/tt40497   \n",
       "1   64683  http://www.imdb.com/title/tt64683   \n",
       "2   47338  http://www.imdb.com/title/tt47338   \n",
       "3   72837  http://www.imdb.com/title/tt72837   \n",
       "4   93748  http://www.imdb.com/title/tt93748   \n",
       "\n",
       "                                           Title  IMDB Score   Genre  \\\n",
       "0                           Jour de fíÈte (1949)         7.4  Comedy   \n",
       "1                            Mondo Trasho (1969)         6.4  Comedy   \n",
       "2  Pekka ja PÌ_tkÌ_ lumimiehen jÌ_ljillÌ_ (1954)         5.6  Comedy   \n",
       "3                           Cuore di cane (1976)         6.6  Comedy   \n",
       "4            Planes, Trains & Automobiles (1987)         7.6  Comedy   \n",
       "\n",
       "                                              Poster  \n",
       "0  https://images-na.ssl-images-amazon.com/images...  \n",
       "1  https://images-na.ssl-images-amazon.com/images...  \n",
       "2  https://images-na.ssl-images-amazon.com/images...  \n",
       "3  https://images-na.ssl-images-amazon.com/images...  \n",
       "4  https://images-na.ssl-images-amazon.com/images...  "
      ]
     },
     "execution_count": 4,
     "metadata": {},
     "output_type": "execute_result"
    }
   ],
   "source": [
    "print(data.shape)\n",
    "print(len(to_delete))\n",
    "data.head()"
   ]
  },
  {
   "cell_type": "code",
   "execution_count": 11,
   "metadata": {},
   "outputs": [
    {
     "name": "stdout",
     "output_type": "stream",
     "text": [
      "(6253, 6)\n"
     ]
    },
    {
     "data": {
      "text/plain": [
       "Drama          2418\n",
       "Comedy         2317\n",
       "Documentary    1518\n",
       "Name: Genre, dtype: int64"
      ]
     },
     "execution_count": 11,
     "metadata": {},
     "output_type": "execute_result"
    }
   ],
   "source": [
    "for x in to_delete:\n",
    "    data = data[data.imdbId != x]\n",
    "print(data.shape)\n",
    "data.Genre.value_counts()\n"
   ]
  },
  {
   "cell_type": "code",
   "execution_count": 12,
   "metadata": {},
   "outputs": [],
   "source": [
    "def toNumeric(genre):\n",
    "    if genre == 'Romance':\n",
    "        return 0\n",
    "    elif genre == 'Comedy':\n",
    "        return 1\n",
    "    elif genre == 'Documentary':\n",
    "        return 2\n",
    "    elif genre == 'Drama':\n",
    "        return 3\n",
    "    elif genre == 'Crime':\n",
    "        return 4\n",
    "    elif genre == 'Action':\n",
    "        return 5\n",
    "    elif genre == 'Animation':\n",
    "        return 6\n",
    "    elif genre == 'Horror':\n",
    "        return 7\n",
    "    elif genre == 'Short':\n",
    "        return 8\n",
    "    elif genre == 'Adventure':\n",
    "        return 9\n",
    "    elif genre == 'Sci-Fi':\n",
    "        return 10\n",
    "    elif genre == 'Thriller':\n",
    "        return 11\n",
    "    elif genre == 'Biography':\n",
    "        return 12\n",
    "    elif genre == 'Talk-Show':\n",
    "        return 13\n",
    "    elif genre == 'Family':\n",
    "        return 14\n",
    "    elif genre == 'Fantasy':\n",
    "        return 15\n",
    "    elif genre == 'Mystery':\n",
    "        return 16\n",
    "    elif genre == 'History':\n",
    "        return 17\n",
    "    elif genre == 'Music':\n",
    "        return 18\n",
    "    elif genre == 'Musical':\n",
    "        return 19\n",
    "    elif genre == 'Sport':\n",
    "        return 20"
   ]
  },
  {
   "cell_type": "code",
   "execution_count": 13,
   "metadata": {},
   "outputs": [],
   "source": [
    "cat_y = data['Genre']"
   ]
  },
  {
   "cell_type": "code",
   "execution_count": 14,
   "metadata": {},
   "outputs": [],
   "source": [
    "num_y = []\n",
    "for genre in cat_y:\n",
    "    g = toNumeric(genre)\n",
    "    num_y.append(g)\n",
    "    \n",
    "y = np.asarray(num_y)\n",
    "y = np_utils.to_categorical(y, 22)"
   ]
  },
  {
   "cell_type": "code",
   "execution_count": 17,
   "metadata": {},
   "outputs": [],
   "source": [
    "images = []\n",
    "for pid in data['imdbId']:\n",
    "    img = cv2.imread('posters/' + str(pid) + '.jpg')\n",
    "    (b, g, r)=cv2.split(img) \n",
    "    img=cv2.merge([r,g,b])\n",
    "    images.append(img)"
   ]
  },
  {
   "cell_type": "code",
   "execution_count": 18,
   "metadata": {},
   "outputs": [
    {
     "name": "stdout",
     "output_type": "stream",
     "text": [
      "6253\n"
     ]
    }
   ],
   "source": [
    "print(len(images))\n",
    "X=np.asarray(images,dtype=float)"
   ]
  },
  {
   "cell_type": "code",
   "execution_count": null,
   "metadata": {},
   "outputs": [],
   "source": [
    "\n"
   ]
  },
  {
   "cell_type": "code",
   "execution_count": 20,
   "metadata": {},
   "outputs": [
    {
     "name": "stdout",
     "output_type": "stream",
     "text": [
      "(4377, 268, 182, 3)\n",
      "(4377, 22)\n"
     ]
    }
   ],
   "source": [
    "img_width = 182\n",
    "img_height = 268\n",
    "X_train, X_test, y_train, y_test = train_test_split(X, y, test_size=0.3, random_state=3)\n",
    "print(X_train.shape)\n",
    "print(y_train.shape)"
   ]
  },
  {
   "cell_type": "code",
   "execution_count": 21,
   "metadata": {},
   "outputs": [],
   "source": [
    "X_train = X_train.astype('float32')\n",
    "X_test = X_test.astype('float32')\n",
    "X_train /= 255\n",
    "X_test /= 255"
   ]
  },
  {
   "cell_type": "code",
   "execution_count": 22,
   "metadata": {},
   "outputs": [
    {
     "name": "stdout",
     "output_type": "stream",
     "text": [
      "X_train shape: (4377, 268, 182, 3)\n",
      "X_test shape: (1876, 268, 182, 3)\n",
      "4377 train samples\n",
      "1876 test samples\n"
     ]
    }
   ],
   "source": [
    "print('X_train shape:', X_train.shape)\n",
    "print('X_test shape:', X_test.shape)\n",
    "print(X_train.shape[0], 'train samples')\n",
    "print(X_test.shape[0], 'test samples')"
   ]
  },
  {
   "cell_type": "code",
   "execution_count": 23,
   "metadata": {},
   "outputs": [
    {
     "name": "stdout",
     "output_type": "stream",
     "text": [
      "(None, 266, 180, 128)\n"
     ]
    }
   ],
   "source": [
    "#defining the model\n",
    "model = Sequential()\n",
    "\n",
    "#input\n",
    "model.add(Convolution2D(128, (3, 3), activation='relu', input_shape=(img_height, img_width,3)))\n",
    "print(model.output_shape)"
   ]
  },
  {
   "cell_type": "code",
   "execution_count": 24,
   "metadata": {},
   "outputs": [
    {
     "name": "stdout",
     "output_type": "stream",
     "text": [
      "(None, 264, 178, 64)\n",
      "(None, 88, 59, 64)\n",
      "(None, 87, 58, 64)\n",
      "(None, 43, 29, 64)\n",
      "(None, 42, 28, 64)\n",
      "(None, 21, 14, 64)\n"
     ]
    }
   ],
   "source": [
    "#convolutions\n",
    "\n",
    "model.add(Convolution2D(64, (3, 3), activation='relu'))\n",
    "print(model.output_shape)\n",
    "model.add(MaxPooling2D(pool_size=(3, 3)))\n",
    "print(model.output_shape)\n",
    "model.add(Dropout(0.3))\n",
    "\n",
    "model.add(Convolution2D(64, (2,2), activation='relu'))\n",
    "print(model.output_shape)\n",
    "model.add(MaxPooling2D(pool_size=(2,2)))\n",
    "print(model.output_shape)\n",
    "model.add(Dropout(0.3))\n",
    "\n",
    "model.add(Convolution2D(64, (2,2), activation='relu'))\n",
    "print(model.output_shape)\n",
    "model.add(MaxPooling2D(pool_size=(2,2)))\n",
    "print(model.output_shape)\n",
    "model.add(Dropout(0.2))"
   ]
  },
  {
   "cell_type": "code",
   "execution_count": 25,
   "metadata": {},
   "outputs": [
    {
     "name": "stdout",
     "output_type": "stream",
     "text": [
      "(None, 18816)\n",
      "(None, 44)\n",
      "(None, 22)\n"
     ]
    }
   ],
   "source": [
    "#dense layers\n",
    "model.add(Flatten())\n",
    "print(model.output_shape)\n",
    "\n",
    "model.add(Dense(44, activation='relu'))\n",
    "print(model.output_shape)\n",
    "model.add(Dropout(0.15))\n",
    "\n",
    "model.add(Dense(22, activation='softmax'))\n",
    "print(model.output_shape)\n",
    "model.add(Dropout(0.15))"
   ]
  },
  {
   "cell_type": "code",
   "execution_count": 26,
   "metadata": {},
   "outputs": [
    {
     "name": "stdout",
     "output_type": "stream",
     "text": [
      "_________________________________________________________________\n",
      "Layer (type)                 Output Shape              Param #   \n",
      "=================================================================\n",
      "conv2d_1 (Conv2D)            (None, 266, 180, 128)     3584      \n",
      "_________________________________________________________________\n",
      "conv2d_2 (Conv2D)            (None, 264, 178, 64)      73792     \n",
      "_________________________________________________________________\n",
      "max_pooling2d_1 (MaxPooling2 (None, 88, 59, 64)        0         \n",
      "_________________________________________________________________\n",
      "dropout_1 (Dropout)          (None, 88, 59, 64)        0         \n",
      "_________________________________________________________________\n",
      "conv2d_3 (Conv2D)            (None, 87, 58, 64)        16448     \n",
      "_________________________________________________________________\n",
      "max_pooling2d_2 (MaxPooling2 (None, 43, 29, 64)        0         \n",
      "_________________________________________________________________\n",
      "dropout_2 (Dropout)          (None, 43, 29, 64)        0         \n",
      "_________________________________________________________________\n",
      "conv2d_4 (Conv2D)            (None, 42, 28, 64)        16448     \n",
      "_________________________________________________________________\n",
      "max_pooling2d_3 (MaxPooling2 (None, 21, 14, 64)        0         \n",
      "_________________________________________________________________\n",
      "dropout_3 (Dropout)          (None, 21, 14, 64)        0         \n",
      "_________________________________________________________________\n",
      "flatten_1 (Flatten)          (None, 18816)             0         \n",
      "_________________________________________________________________\n",
      "dense_1 (Dense)              (None, 44)                827948    \n",
      "_________________________________________________________________\n",
      "dropout_4 (Dropout)          (None, 44)                0         \n",
      "_________________________________________________________________\n",
      "dense_2 (Dense)              (None, 22)                990       \n",
      "_________________________________________________________________\n",
      "dropout_5 (Dropout)          (None, 22)                0         \n",
      "=================================================================\n",
      "Total params: 939,210\n",
      "Trainable params: 939,210\n",
      "Non-trainable params: 0\n",
      "_________________________________________________________________\n",
      "None\n"
     ]
    }
   ],
   "source": [
    "\n",
    "#printing model summary\n",
    "print(model.summary())\n",
    "\n",
    "#compiling the model\n",
    "model.compile(loss='categorical_crossentropy',metrics=['accuracy'],\n",
    "              optimizer='adam')"
   ]
  },
  {
   "cell_type": "code",
   "execution_count": 27,
   "metadata": {},
   "outputs": [
    {
     "name": "stdout",
     "output_type": "stream",
     "text": [
      "(None, 22)\n",
      "(4377, 22)\n",
      "(1876, 268, 182, 3)\n"
     ]
    }
   ],
   "source": [
    "print(model.output_shape)\n",
    "print(y_train.shape)\n",
    "print(X_test.shape)"
   ]
  },
  {
   "cell_type": "code",
   "execution_count": 30,
   "metadata": {},
   "outputs": [],
   "source": [
    "#training controls\n",
    "batch_size = 25\n",
    "epochs = 5\n",
    "training_size = 0.7"
   ]
  },
  {
   "cell_type": "code",
   "execution_count": null,
   "metadata": {},
   "outputs": [],
   "source": []
  },
  {
   "cell_type": "code",
   "execution_count": 1,
   "metadata": {},
   "outputs": [
    {
     "ename": "NameError",
     "evalue": "name 'model' is not defined",
     "output_type": "error",
     "traceback": [
      "\u001b[1;31m---------------------------------------------------------------------------\u001b[0m",
      "\u001b[1;31mNameError\u001b[0m                                 Traceback (most recent call last)",
      "\u001b[1;32m<ipython-input-1-7f5cb5312d00>\u001b[0m in \u001b[0;36m<module>\u001b[1;34m()\u001b[0m\n\u001b[0;32m      1\u001b[0m \u001b[1;31m#training the model\u001b[0m\u001b[1;33m\u001b[0m\u001b[1;33m\u001b[0m\u001b[0m\n\u001b[1;32m----> 2\u001b[1;33m \u001b[0mhistory\u001b[0m \u001b[1;33m=\u001b[0m  \u001b[0mmodel\u001b[0m\u001b[1;33m.\u001b[0m\u001b[0mfit\u001b[0m\u001b[1;33m(\u001b[0m\u001b[0mX_train\u001b[0m\u001b[1;33m,\u001b[0m \u001b[0my_train\u001b[0m\u001b[1;33m,\u001b[0m\u001b[0mbatch_size\u001b[0m\u001b[1;33m=\u001b[0m\u001b[0mbatch_size\u001b[0m\u001b[1;33m,\u001b[0m\u001b[0mepochs\u001b[0m\u001b[1;33m=\u001b[0m\u001b[0mepochs\u001b[0m\u001b[1;33m,\u001b[0m\u001b[0mverbose\u001b[0m\u001b[1;33m=\u001b[0m\u001b[1;36m1\u001b[0m\u001b[1;33m)\u001b[0m\u001b[1;33m\u001b[0m\u001b[0m\n\u001b[0m",
      "\u001b[1;31mNameError\u001b[0m: name 'model' is not defined"
     ]
    }
   ],
   "source": [
    "#training the model\n",
    "history =  model.fit(X_train, y_train,batch_size=batch_size,epochs=epochs,verbose=1)"
   ]
  },
  {
   "cell_type": "code",
   "execution_count": null,
   "metadata": {},
   "outputs": [],
   "source": [
    "%matplotlib inline\n",
    "accuracy = history.history['acc']\n",
    "loss = history.history['loss']\n",
    "epochs = range(len(accuracy))\n",
    "plt.plot(epochs, accuracy, 'b-', label='Training accuracy')\n",
    "plt.title('Training and validation accuracy')\n",
    "plt.legend()\n",
    "plt.figure()\n",
    "plt.plot(epochs, loss, 'r-', label='Training loss')\n",
    "plt.title('Training and validation loss')\n",
    "plt.legend()\n"
   ]
  },
  {
   "cell_type": "code",
   "execution_count": null,
   "metadata": {},
   "outputs": [],
   "source": [
    "#testing the model\n",
    "score = model.evaluate(X_test, y_test, verbose=1)\n",
    "print('Test loss:', score[0])\n",
    "print('Test accuracy:', score[1])"
   ]
  },
  {
   "cell_type": "code",
   "execution_count": null,
   "metadata": {},
   "outputs": [],
   "source": [
    "\n"
   ]
  },
  {
   "cell_type": "code",
   "execution_count": null,
   "metadata": {},
   "outputs": [],
   "source": []
  },
  {
   "cell_type": "code",
   "execution_count": null,
   "metadata": {},
   "outputs": [],
   "source": []
  },
  {
   "cell_type": "code",
   "execution_count": null,
   "metadata": {},
   "outputs": [],
   "source": []
  },
  {
   "cell_type": "code",
   "execution_count": null,
   "metadata": {},
   "outputs": [],
   "source": []
  },
  {
   "cell_type": "code",
   "execution_count": null,
   "metadata": {},
   "outputs": [],
   "source": []
  }
 ],
 "metadata": {
  "kernelspec": {
   "display_name": "Python 3",
   "language": "python",
   "name": "python3"
  },
  "language_info": {
   "codemirror_mode": {
    "name": "ipython",
    "version": 3
   },
   "file_extension": ".py",
   "mimetype": "text/x-python",
   "name": "python",
   "nbconvert_exporter": "python",
   "pygments_lexer": "ipython3",
   "version": "3.6.5"
  }
 },
 "nbformat": 4,
 "nbformat_minor": 2
}
